{
 "cells": [
  {
   "cell_type": "code",
   "execution_count": 1,
   "id": "24a3e1f7-1e11-480d-ae7e-a905ebb46900",
   "metadata": {
    "jupyter": {
     "source_hidden": true
    },
    "tags": []
   },
   "outputs": [],
   "source": [
    "import pandas as pd\n",
    "import matplotlib.pyplot as plt\n",
    "import numpy as np\n",
    "from sklearn.linear_model import LinearRegression\n",
    "from sklearn.metrics import mean_squared_error\n",
    "import scipy.stats as stats\n",
    "from sklearn.utils import resample"
   ]
  },
  {
   "cell_type": "markdown",
   "id": "19b1cb2d-8374-4eeb-bd85-8f606d668c54",
   "metadata": {},
   "source": [
    "# Storks deliver babies analysis\n",
    "\n",
    "## Summary\n",
    "\n",
    "The aim of this report is to use the data in `storks.csv` file (which is derived from the paper `Storks Deliver Babies (p =0.008) by Robert Matthews`) and perform the following analyses:\n",
    "\n",
    "1. Develop and interpret two regression models predicting the number of births using the predictors:\n",
    "    - number of storks for model 1\n",
    "    - population size for model 2\n",
    "    \n",
    "1. Use bootstrapping to estimate the distribution of the difference in the $R^2$ parameter for the two models\n",
    "\n",
    "1. Develop and interpret two regression models predicting the number of storks using the predictors:\n",
    "    - land area for model 1\n",
    "    - population density and area of suitable land for model 2\n",
    "\n",
    "1. Use bootstrapping to estimate the distribution of the difference in the RMSE (root mean squared error) between the predicted and the actual values for the two models\n",
    "\n",
    "The report is divided into 3 sections:\n",
    "\n",
    " 1. Section 1 - Data Preparation<br>\n",
    "     1. Importing the dataset\n",
    " \n",
    " 2. Section 2 - Analysis of variability in number of births <br>\n",
    "     1. Regression model 1\n",
    "     1. Regression model 2\n",
    "     1. Bootstrapping\n",
    "     \n",
    " 3. Section 3 - Predicting the number of storks<br>\n",
    "     1. Regression model 1\n",
    "     1. Regression model 2\n",
    "     1. Bootstrapping"
   ]
  },
  {
   "cell_type": "markdown",
   "id": "c58953c3-a644-41b4-92e2-496974286c2b",
   "metadata": {},
   "source": [
    "## Section 1 - Data Preparation"
   ]
  },
  {
   "cell_type": "markdown",
   "id": "1183a9da-7f10-4f5c-815e-84f92c09757b",
   "metadata": {},
   "source": [
    "### Section 1A: Importing the dataset\n",
    "\n",
    "Data is imported from `storks.csv` into a pandas dataframe called `storks`."
   ]
  },
  {
   "cell_type": "code",
   "execution_count": 2,
   "id": "041a7827-db59-4b4d-a722-769667222806",
   "metadata": {
    "jupyter": {
     "source_hidden": true
    },
    "tags": []
   },
   "outputs": [
    {
     "data": {
      "text/html": [
       "<div>\n",
       "<style scoped>\n",
       "    .dataframe tbody tr th:only-of-type {\n",
       "        vertical-align: middle;\n",
       "    }\n",
       "\n",
       "    .dataframe tbody tr th {\n",
       "        vertical-align: top;\n",
       "    }\n",
       "\n",
       "    .dataframe thead th {\n",
       "        text-align: right;\n",
       "    }\n",
       "</style>\n",
       "<table border=\"1\" class=\"dataframe\">\n",
       "  <thead>\n",
       "    <tr style=\"text-align: right;\">\n",
       "      <th></th>\n",
       "      <th>Country</th>\n",
       "      <th>Area</th>\n",
       "      <th>Storks</th>\n",
       "      <th>Humans</th>\n",
       "      <th>BirthRate</th>\n",
       "      <th>SuitableAreaPercent</th>\n",
       "    </tr>\n",
       "  </thead>\n",
       "  <tbody>\n",
       "    <tr>\n",
       "      <th>0</th>\n",
       "      <td>Albania</td>\n",
       "      <td>28750</td>\n",
       "      <td>100</td>\n",
       "      <td>3.2</td>\n",
       "      <td>83</td>\n",
       "      <td>55.68</td>\n",
       "    </tr>\n",
       "    <tr>\n",
       "      <th>1</th>\n",
       "      <td>Austria</td>\n",
       "      <td>83860</td>\n",
       "      <td>300</td>\n",
       "      <td>7.6</td>\n",
       "      <td>87</td>\n",
       "      <td>38.34</td>\n",
       "    </tr>\n",
       "    <tr>\n",
       "      <th>2</th>\n",
       "      <td>Belgium</td>\n",
       "      <td>30520</td>\n",
       "      <td>1</td>\n",
       "      <td>9.9</td>\n",
       "      <td>118</td>\n",
       "      <td>65.93</td>\n",
       "    </tr>\n",
       "    <tr>\n",
       "      <th>3</th>\n",
       "      <td>Bulgaria</td>\n",
       "      <td>111000</td>\n",
       "      <td>5000</td>\n",
       "      <td>9.0</td>\n",
       "      <td>117</td>\n",
       "      <td>57.99</td>\n",
       "    </tr>\n",
       "    <tr>\n",
       "      <th>4</th>\n",
       "      <td>Denmark</td>\n",
       "      <td>43100</td>\n",
       "      <td>9</td>\n",
       "      <td>5.1</td>\n",
       "      <td>59</td>\n",
       "      <td>81.46</td>\n",
       "    </tr>\n",
       "    <tr>\n",
       "      <th>5</th>\n",
       "      <td>France</td>\n",
       "      <td>544000</td>\n",
       "      <td>140</td>\n",
       "      <td>56.0</td>\n",
       "      <td>774</td>\n",
       "      <td>58.47</td>\n",
       "    </tr>\n",
       "    <tr>\n",
       "      <th>6</th>\n",
       "      <td>Germany</td>\n",
       "      <td>357000</td>\n",
       "      <td>3300</td>\n",
       "      <td>78.0</td>\n",
       "      <td>901</td>\n",
       "      <td>59.81</td>\n",
       "    </tr>\n",
       "    <tr>\n",
       "      <th>7</th>\n",
       "      <td>Greece</td>\n",
       "      <td>132000</td>\n",
       "      <td>2500</td>\n",
       "      <td>10.0</td>\n",
       "      <td>106</td>\n",
       "      <td>47.31</td>\n",
       "    </tr>\n",
       "    <tr>\n",
       "      <th>8</th>\n",
       "      <td>Holland</td>\n",
       "      <td>41900</td>\n",
       "      <td>4</td>\n",
       "      <td>15.0</td>\n",
       "      <td>188</td>\n",
       "      <td>70.96</td>\n",
       "    </tr>\n",
       "    <tr>\n",
       "      <th>9</th>\n",
       "      <td>Hungary</td>\n",
       "      <td>93000</td>\n",
       "      <td>5000</td>\n",
       "      <td>11.0</td>\n",
       "      <td>124</td>\n",
       "      <td>75.86</td>\n",
       "    </tr>\n",
       "    <tr>\n",
       "      <th>10</th>\n",
       "      <td>Italy</td>\n",
       "      <td>301280</td>\n",
       "      <td>5</td>\n",
       "      <td>57.0</td>\n",
       "      <td>551</td>\n",
       "      <td>60.30</td>\n",
       "    </tr>\n",
       "    <tr>\n",
       "      <th>11</th>\n",
       "      <td>Poland</td>\n",
       "      <td>312680</td>\n",
       "      <td>30000</td>\n",
       "      <td>38.0</td>\n",
       "      <td>610</td>\n",
       "      <td>64.09</td>\n",
       "    </tr>\n",
       "    <tr>\n",
       "      <th>12</th>\n",
       "      <td>Portugal</td>\n",
       "      <td>92390</td>\n",
       "      <td>1500</td>\n",
       "      <td>10.0</td>\n",
       "      <td>120</td>\n",
       "      <td>52.51</td>\n",
       "    </tr>\n",
       "    <tr>\n",
       "      <th>13</th>\n",
       "      <td>Romania</td>\n",
       "      <td>237500</td>\n",
       "      <td>5000</td>\n",
       "      <td>23.0</td>\n",
       "      <td>367</td>\n",
       "      <td>62.49</td>\n",
       "    </tr>\n",
       "    <tr>\n",
       "      <th>14</th>\n",
       "      <td>Spain</td>\n",
       "      <td>504750</td>\n",
       "      <td>8000</td>\n",
       "      <td>39.0</td>\n",
       "      <td>439</td>\n",
       "      <td>59.57</td>\n",
       "    </tr>\n",
       "    <tr>\n",
       "      <th>15</th>\n",
       "      <td>Switzerland</td>\n",
       "      <td>41290</td>\n",
       "      <td>150</td>\n",
       "      <td>6.7</td>\n",
       "      <td>82</td>\n",
       "      <td>43.19</td>\n",
       "    </tr>\n",
       "    <tr>\n",
       "      <th>16</th>\n",
       "      <td>Turkey</td>\n",
       "      <td>779450</td>\n",
       "      <td>25000</td>\n",
       "      <td>56.0</td>\n",
       "      <td>1576</td>\n",
       "      <td>65.97</td>\n",
       "    </tr>\n",
       "  </tbody>\n",
       "</table>\n",
       "</div>"
      ],
      "text/plain": [
       "        Country    Area  Storks  Humans  BirthRate  SuitableAreaPercent\n",
       "0       Albania   28750     100     3.2         83                55.68\n",
       "1       Austria   83860     300     7.6         87                38.34\n",
       "2       Belgium   30520       1     9.9        118                65.93\n",
       "3      Bulgaria  111000    5000     9.0        117                57.99\n",
       "4       Denmark   43100       9     5.1         59                81.46\n",
       "5        France  544000     140    56.0        774                58.47\n",
       "6       Germany  357000    3300    78.0        901                59.81\n",
       "7        Greece  132000    2500    10.0        106                47.31\n",
       "8       Holland   41900       4    15.0        188                70.96\n",
       "9       Hungary   93000    5000    11.0        124                75.86\n",
       "10        Italy  301280       5    57.0        551                60.30\n",
       "11       Poland  312680   30000    38.0        610                64.09\n",
       "12     Portugal   92390    1500    10.0        120                52.51\n",
       "13      Romania  237500    5000    23.0        367                62.49\n",
       "14        Spain  504750    8000    39.0        439                59.57\n",
       "15  Switzerland   41290     150     6.7         82                43.19\n",
       "16       Turkey  779450   25000    56.0       1576                65.97"
      ]
     },
     "execution_count": 2,
     "metadata": {},
     "output_type": "execute_result"
    }
   ],
   "source": [
    "storks = pd.read_csv('storks.csv')\n",
    "storks"
   ]
  },
  {
   "cell_type": "markdown",
   "id": "098754d3-d3b3-480f-9778-3440e9108877",
   "metadata": {},
   "source": [
    "Please note that the units are not included in the above table column headings but are as follows:\n",
    "- `Area`: $km^2$\n",
    "- `Storks`: number of breeding pairs\n",
    "- `Humans`: $*1e6$ (number of)\n",
    "- `BirthRate`: 1000s per year (number of)"
   ]
  },
  {
   "cell_type": "markdown",
   "id": "17a267a5-7ca2-4243-b5b1-d9ee2492ab80",
   "metadata": {
    "tags": []
   },
   "source": [
    "## Section 2 - Analysis of variability in number of births\n",
    "\n",
    "The aim of this section is to analyse two regression models with different predictors and comment on the variability in the number of births (target variable for both models).\n",
    "\n",
    "### Section 2A: Regression model 1\n",
    "\n",
    "The first regression model uses the number of storks as the predictor. The below creates the `X` matrix from the `Storks` column in the `storks` dataframe and the `y` values (target) from the `BirthRate` column in the `storks` dataframe. Then performing a simple linear regression to get the line of best fit using the ordinary least squares method, the relevant metrics from the model were as follows:"
   ]
  },
  {
   "cell_type": "code",
   "execution_count": 3,
   "id": "2eb29419-413c-4e9a-8a93-0f18d197c014",
   "metadata": {
    "jupyter": {
     "source_hidden": true
    },
    "tags": []
   },
   "outputs": [
    {
     "name": "stdout",
     "output_type": "stream",
     "text": [
      "The R2 coefficient of determination is 0.385\n",
      "The intercept is 225.0\n",
      "The regression coefficients are: [0.02879364]\n"
     ]
    }
   ],
   "source": [
    "#model 1 - predictor is no. of storks, target is birth rate\n",
    "\n",
    "X = np.column_stack([storks.Storks]) #predictor\n",
    "y = np.array(storks.BirthRate) #target - converted to np array\n",
    "\n",
    "regression = LinearRegression().fit(X,y)\n",
    "print('The R2 coefficient of determination is %4.3f' % regression.score(X, y))\n",
    "print('The intercept is %4.1f' % regression.intercept_)\n",
    "print('The regression coefficients are:', regression.coef_)"
   ]
  },
  {
   "cell_type": "markdown",
   "id": "8465b262-5d24-4fb6-b9b6-1a24ae058566",
   "metadata": {},
   "source": [
    "The $R^2$ coefficient of determination of 0.385 implies that only 38.5% of the total variation of birth rate can be explained by this model which only has one predictor (number of storks). The intercept of 225 means that if there were no stork pairs, the model would predict a birth rate of 225,000 per year. The regression coefficient of ~0.03 implies that for every 1 new pair of breeding stork, the model predicts an increase in birth rate by roughly 28.8 births per year. \n",
    "\n",
    "The above regression model is fitted to the data and plotted below for visualisation. As it can be seen, there are many points that are far away from the regression line:"
   ]
  },
  {
   "cell_type": "code",
   "execution_count": 4,
   "id": "9b409ca7-1982-41c9-ae77-2a209339f74b",
   "metadata": {
    "jupyter": {
     "source_hidden": true
    }
   },
   "outputs": [
    {
     "data": {
      "text/plain": [
       "Text(0, 0.5, 'BirthRate (1000s per year)')"
      ]
     },
     "execution_count": 4,
     "metadata": {},
     "output_type": "execute_result"
    },
    {
     "data": {
      "image/png": "[encoded data removed]",
      "text/plain": [
       "<Figure size 1080x576 with 1 Axes>"
      ]
     },
     "metadata": {
      "needs_background": "light"
     },
     "output_type": "display_data"
    }
   ],
   "source": [
    "pred = regression.predict(X) #use the regression model to predict X\n",
    "\n",
    "#plot observed values and model predicting X\n",
    "fig, ax = plt.subplots(1,1, figsize = (15,8))\n",
    "ax.scatter(storks.Storks, y)\n",
    "ax.plot(storks.Storks, pred, 'r')\n",
    "ax.set_xlabel('Num of storks pairs')\n",
    "ax.set_ylabel('BirthRate (1000s per year)')\n"
   ]
  },
  {
   "cell_type": "markdown",
   "id": "d1959c3f-1f8d-4c1d-b123-4498b7a75df2",
   "metadata": {},
   "source": [
    "### Section 2B: Regression model 2\n",
    "\n",
    "The second regression model uses the population of humans as the predictor. Note that the actual population is in 10^6 (number of). Repeating the same as in Section 2A, and carrying out the regression:"
   ]
  },
  {
   "cell_type": "code",
   "execution_count": 5,
   "id": "5f786fa9-1351-4aa4-8059-949904accd1f",
   "metadata": {
    "jupyter": {
     "source_hidden": true
    },
    "tags": []
   },
   "outputs": [
    {
     "name": "stdout",
     "output_type": "stream",
     "text": [
      "The R2 coefficient of determination is 0.725\n",
      "The intercept is -8.4\n",
      "The regression coefficients are: [14.83444462]\n"
     ]
    }
   ],
   "source": [
    "#model 2 - predictor is population, target is birth rate (y used from before)\n",
    "\n",
    "X2 = np.column_stack([storks.Humans]) #predictor\n",
    "regression2 = LinearRegression().fit(X2,y) #fit a regression model\n",
    "print('The R2 coefficient of determination is %4.3f' % regression2.score(X2, y))\n",
    "print('The intercept is %4.1f' % regression2.intercept_)\n",
    "print('The regression coefficients are:', regression2.coef_)"
   ]
  },
  {
   "cell_type": "markdown",
   "id": "84704e3c-50d8-4cf4-928f-6452ea2f7c69",
   "metadata": {},
   "source": [
    "The $R^2$ coefficient is 0.725 which is a much better fit compared to the previous model. 72.5% of the total variation in birth rates is explained by the human population. This obviously makes sense in context as the birth rates of humans are largely dependent on the population of humans and have nothing to do with the population of storks. The model also predicts that for an increase in human population by 1e6, the birth rate will increase by roughly 14.8/ year (interpreting the regression coefficient).\n",
    "\n",
    "Plotting the actual values and the regression model below, it can be seen that the line is a much better fit with lower variance between actual and predicted values for most cases compared to the previous regression model."
   ]
  },
  {
   "cell_type": "code",
   "execution_count": 6,
   "id": "82b3306d-be3c-412c-a708-e8b0de465cca",
   "metadata": {
    "jupyter": {
     "source_hidden": true
    },
    "tags": []
   },
   "outputs": [
    {
     "data": {
      "text/plain": [
       "Text(0, 0.5, 'Birth Rate (1000s per year)')"
      ]
     },
     "execution_count": 6,
     "metadata": {},
     "output_type": "execute_result"
    },
    {
     "data": {
      "image/png": "[encoded data removed]",
      "text/plain": [
       "<Figure size 1080x576 with 1 Axes>"
      ]
     },
     "metadata": {
      "needs_background": "light"
     },
     "output_type": "display_data"
    }
   ],
   "source": [
    "pred2 = regression2.predict(X2) #get the prediction for X2 using the regressino model above\n",
    "\n",
    "fig, ax = plt.subplots(1,1, figsize = (15,8))\n",
    "\n",
    "ax.scatter(storks.Humans, y)\n",
    "ax.plot(storks.Humans, pred2, 'r')\n",
    "ax.set_xlabel('Human population (x10^6)')\n",
    "ax.set_ylabel('Birth Rate (1000s per year)')\n"
   ]
  },
  {
   "cell_type": "markdown",
   "id": "67c8e2f5-3d86-4c8d-86f2-fb3af1936773",
   "metadata": {},
   "source": [
    "### Section 2C: Bootstrapping"
   ]
  },
  {
   "cell_type": "markdown",
   "id": "93089d01-a4aa-4ab4-ae7e-5a0f52f6e7ee",
   "metadata": {},
   "source": [
    "Bootstrap technique is used in this section to estimate the distribution of the difference in the $R^2$ parameter for the two models.\n",
    "\n",
    "The below code cell defines the `bootstrapC` function that repeatedly resamples from the data and uses the `regression` function (defined in the same cell below) to return a dataframe consisting of three columns: `R2_diff` (difference in R^2 for the two models), `R2_Storks` (stores the R^2 values for model 1 from each resample), and `R2_humans` (stores the R^2 values for model 2 from each resample). Finally, the below code cell also calls the `bootstrapC` function and stores the data in dataframe `df`:"
   ]
  },
  {
   "cell_type": "code",
   "execution_count": 7,
   "id": "86b8a1c8-4e5f-43f4-a7f7-1c65ba2df0de",
   "metadata": {
    "jupyter": {
     "source_hidden": true
    },
    "tags": []
   },
   "outputs": [
    {
     "name": "stdout",
     "output_type": "stream",
     "text": [
      "df: \n",
      "       R2_diff  R2_Storks  R2_humans\n",
      "0   -0.895794   0.049020   0.944813\n",
      "1    0.031244   0.797797   0.766553\n",
      "2   -0.675331   0.251064   0.926395\n",
      "3   -0.244109   0.472767   0.716875\n",
      "4   -0.261883   0.457975   0.719858\n",
      "..        ...        ...        ...\n",
      "995 -0.430155   0.346374   0.776530\n",
      "996  0.086592   0.715384   0.628792\n",
      "997 -0.497678   0.206629   0.704306\n",
      "998 -0.366256   0.360019   0.726275\n",
      "999 -0.410233   0.254847   0.665080\n",
      "\n",
      "[1000 rows x 3 columns]\n"
     ]
    }
   ],
   "source": [
    "#bootstrap model 1 and model 2\n",
    "\n",
    "# data - the sample; can be dataframe or an array\n",
    "# cols - a list of column headings in the results dataframe\n",
    "# repeats - the number of times the process is repeated\n",
    "# func - the function that calculates the results for each sample: must return a value for each column\n",
    "\n",
    "def bootstrapC(df, cols, repeats, func):\n",
    "    result = pd.DataFrame(data = dict([(c, np.empty(repeats)) for c in cols]))\n",
    "    \n",
    "    for i in range(0, repeats):\n",
    "        result.iloc[i] = func(resample(df)) # default is to resample, same size\n",
    "    return result\n",
    "\n",
    "#defining a function that creates regression models (same as the previous sections), and returns: the difference in the R^2 metrics, R^2 for model 1, and R^2 for model 2\n",
    "def regression(df):\n",
    "    X = np.column_stack([df.Storks]) #create X matrix for model 1\n",
    "    y = df.BirthRate # target\n",
    "    X2 = np.column_stack([df.Humans]) # create X matrix for model 2\n",
    "    r2_1 = LinearRegression().fit(X,y).score(X,y) #fit model 1\n",
    "    r2_2 = LinearRegression().fit(X2,y).score(X2,y) # fit model 2\n",
    "    return r2_1 - r2_2, r2_1, r2_2 #model 1 r^2 - model 2 r^2\n",
    "\n",
    "df = bootstrapC(storks, ['R2_diff', 'R2_Storks', 'R2_humans'], 1000, regression) #perform bootstrap and store in dataframe df.\n",
    "print('df: \\n',df)"
   ]
  },
  {
   "cell_type": "markdown",
   "id": "1fd376a0-a76a-45a2-b33a-442ec99e24a7",
   "metadata": {},
   "source": [
    "Note that the `R2_diff` column is the difference between $R^2$ for model 1 (`R2_Storks`) and $R^2$ for model 2 (`R2_humans`). Plotting the above as histograms:"
   ]
  },
  {
   "cell_type": "code",
   "execution_count": 8,
   "id": "f39cb420-1e2b-4ffe-935d-81d0b917ddba",
   "metadata": {
    "jupyter": {
     "source_hidden": true
    },
    "tags": []
   },
   "outputs": [
    {
     "data": {
      "text/plain": [
       "array([[<AxesSubplot:title={'center':'R2_diff'}>,\n",
       "        <AxesSubplot:title={'center':'R2_Storks'}>,\n",
       "        <AxesSubplot:title={'center':'R2_humans'}>]], dtype=object)"
      ]
     },
     "execution_count": 8,
     "metadata": {},
     "output_type": "execute_result"
    },
    {
     "data": {
      "image/png": "[encoded data removed]",
      "text/plain": [
       "<Figure size 1800x576 with 3 Axes>"
      ]
     },
     "metadata": {
      "needs_background": "light"
     },
     "output_type": "display_data"
    }
   ],
   "source": [
    "df.hist(figsize = (25,8), layout = (1,3), bins = 30)"
   ]
  },
  {
   "cell_type": "markdown",
   "id": "f42abf45-ef9c-4ec0-ae24-67277c1bc48f",
   "metadata": {},
   "source": [
    "Looking at the summary statistics for the above:"
   ]
  },
  {
   "cell_type": "code",
   "execution_count": 9,
   "id": "cc556733-4f23-4db2-88b7-1e66a48768d3",
   "metadata": {
    "jupyter": {
     "source_hidden": true
    }
   },
   "outputs": [
    {
     "data": {
      "text/html": [
       "<div>\n",
       "<style scoped>\n",
       "    .dataframe tbody tr th:only-of-type {\n",
       "        vertical-align: middle;\n",
       "    }\n",
       "\n",
       "    .dataframe tbody tr th {\n",
       "        vertical-align: top;\n",
       "    }\n",
       "\n",
       "    .dataframe thead th {\n",
       "        text-align: right;\n",
       "    }\n",
       "</style>\n",
       "<table border=\"1\" class=\"dataframe\">\n",
       "  <thead>\n",
       "    <tr style=\"text-align: right;\">\n",
       "      <th></th>\n",
       "      <th>R2_diff</th>\n",
       "      <th>R2_Storks</th>\n",
       "      <th>R2_humans</th>\n",
       "    </tr>\n",
       "  </thead>\n",
       "  <tbody>\n",
       "    <tr>\n",
       "      <th>count</th>\n",
       "      <td>1000.000000</td>\n",
       "      <td>1.000000e+03</td>\n",
       "      <td>1000.000000</td>\n",
       "    </tr>\n",
       "    <tr>\n",
       "      <th>mean</th>\n",
       "      <td>-0.432567</td>\n",
       "      <td>3.784706e-01</td>\n",
       "      <td>0.811038</td>\n",
       "    </tr>\n",
       "    <tr>\n",
       "      <th>std</th>\n",
       "      <td>0.327687</td>\n",
       "      <td>2.412418e-01</td>\n",
       "      <td>0.117759</td>\n",
       "    </tr>\n",
       "    <tr>\n",
       "      <th>min</th>\n",
       "      <td>-0.984907</td>\n",
       "      <td>6.789386e-07</td>\n",
       "      <td>0.512830</td>\n",
       "    </tr>\n",
       "    <tr>\n",
       "      <th>25%</th>\n",
       "      <td>-0.775425</td>\n",
       "      <td>1.618132e-01</td>\n",
       "      <td>0.712647</td>\n",
       "    </tr>\n",
       "    <tr>\n",
       "      <th>50%</th>\n",
       "      <td>-0.353092</td>\n",
       "      <td>3.782628e-01</td>\n",
       "      <td>0.770164</td>\n",
       "    </tr>\n",
       "    <tr>\n",
       "      <th>75%</th>\n",
       "      <td>-0.180373</td>\n",
       "      <td>5.519915e-01</td>\n",
       "      <td>0.938296</td>\n",
       "    </tr>\n",
       "    <tr>\n",
       "      <th>max</th>\n",
       "      <td>0.216983</td>\n",
       "      <td>9.532816e-01</td>\n",
       "      <td>0.996358</td>\n",
       "    </tr>\n",
       "  </tbody>\n",
       "</table>\n",
       "</div>"
      ],
      "text/plain": [
       "           R2_diff     R2_Storks    R2_humans\n",
       "count  1000.000000  1.000000e+03  1000.000000\n",
       "mean     -0.432567  3.784706e-01     0.811038\n",
       "std       0.327687  2.412418e-01     0.117759\n",
       "min      -0.984907  6.789386e-07     0.512830\n",
       "25%      -0.775425  1.618132e-01     0.712647\n",
       "50%      -0.353092  3.782628e-01     0.770164\n",
       "75%      -0.180373  5.519915e-01     0.938296\n",
       "max       0.216983  9.532816e-01     0.996358"
      ]
     },
     "execution_count": 9,
     "metadata": {},
     "output_type": "execute_result"
    }
   ],
   "source": [
    "df.describe()"
   ]
  },
  {
   "cell_type": "markdown",
   "id": "2b9c69d8-5fa3-46e1-8b36-a737b92a33cd",
   "metadata": {},
   "source": [
    "Deriving the 80% and 95% confidence interval for the `R2_diff` values:"
   ]
  },
  {
   "cell_type": "code",
   "execution_count": 10,
   "id": "d725612e-bc77-4297-b9ec-52ceb976b18d",
   "metadata": {
    "jupyter": {
     "source_hidden": true
    },
    "tags": []
   },
   "outputs": [
    {
     "name": "stdout",
     "output_type": "stream",
     "text": [
      "80% range is -0.902 to -0.022\n",
      "95% range is -0.956 to 0.104\n"
     ]
    }
   ],
   "source": [
    "print('80%% range is %4.3f to %4.3f' % \n",
    "      (df.R2_diff.quantile(0.1), df.R2_diff.quantile(0.9)))\n",
    "print('95%% range is %4.3f to %4.3f' % \n",
    "      (df.R2_diff.quantile(0.025), df.R2_diff.quantile(0.975)))"
   ]
  },
  {
   "cell_type": "markdown",
   "id": "a51a8736-6000-42d8-ab4d-2a4eb8c563b4",
   "metadata": {},
   "source": [
    "From the histograms, the summary statistics, and the estimated confidence intervals, the following can be concluded:\n",
    "\n",
    "1. The lowest value of $R^2$ for model 2 (`R2_humans`) was ~0.5 after 1000  resamples compared to 0 for model 1 for the same no. of resamples.\n",
    "1. Majority of `R2_diff` values are negative (75% of the data lies in the negative range). This implies that majority of the time, the $R^2$ value for model 2 is higher than the $R^2$ for model 1. This is backed up by the estimated confidence intervals. The 80% confidence interval contains only negative values implying that at least 80% of the time, the R^2 value for model 2 is higher than that for R1. Although the 95% confidence interval is made up of mostly negative values as well, the inclusion of values above 0 (albeit, marginal) prevents us from saying that model 2 will be better than model 1 95% of the time.   \n",
    "1. From the above, it can be safely concluded (given the high number of resamples from the same data) that model 2 is better at explaining the total variability of the birth rate compared to model 1. As mentioned before, this supports common sense as the birth rate of humans is more likely to be affected by human population, rather than stork population.\n",
    "\n",
    "## Section 3 - Predicting the number of storks\n",
    "\n",
    "The aim of this section is to build and compare the performance of two regression models used to predicting the number of storks (target variable). \n",
    "\n",
    "### Section 3A: Regression model 1\n",
    "\n",
    "The first regression model uses the land area as the predictor. The below creates the `X` matrix from the `Area` column in the `storks` dataframe and the `y` values (target) from the `Storks` column in the `storks` dataframe. Then, a simple linear regression to get the line of best fit using the ordinary least squares method is performed, and the relevant metrics from the model are displayed below:"
   ]
  },
  {
   "cell_type": "code",
   "execution_count": 11,
   "id": "71b923ce-b2e9-4113-82b7-46dfdde3a9e9",
   "metadata": {
    "jupyter": {
     "source_hidden": true
    },
    "tags": []
   },
   "outputs": [
    {
     "name": "stdout",
     "output_type": "stream",
     "text": [
      "The R2 coefficient of determination is 0.336\n",
      "The intercept is -60.7\n",
      "The regression coefficients are: [0.02330737]\n",
      "The RMSE is:  6984.766863832696\n"
     ]
    }
   ],
   "source": [
    "#model 1 - predictor is land area, target is num of storks\n",
    "\n",
    "X = np.column_stack([storks.Area]) #predictor\n",
    "y = np.array(storks.Storks) #target - converted to np array\n",
    "\n",
    "regression = LinearRegression().fit(X,y)\n",
    "\n",
    "y_pred = regression.predict(X) #predicted y to calculated RMSE\n",
    "print('The R2 coefficient of determination is %4.3f' % regression.score(X, y))\n",
    "print('The intercept is %4.1f' % regression.intercept_)\n",
    "print('The regression coefficients are:', regression.coef_)\n",
    "print('The RMSE is: ', mean_squared_error(y, y_pred, squared = False))"
   ]
  },
  {
   "cell_type": "markdown",
   "id": "81f9d98b-71c5-468d-a4c8-d0a07b50ff31",
   "metadata": {},
   "source": [
    "Plotting the regression line on top of the actual data:"
   ]
  },
  {
   "cell_type": "code",
   "execution_count": 12,
   "id": "90bc9652-6204-45ac-9d16-6162f653c9a8",
   "metadata": {
    "jupyter": {
     "source_hidden": true
    },
    "tags": []
   },
   "outputs": [
    {
     "data": {
      "text/plain": [
       "Text(0, 0.5, 'Number of stork pairs')"
      ]
     },
     "execution_count": 12,
     "metadata": {},
     "output_type": "execute_result"
    },
    {
     "data": {
      "image/png": "[encoded data removed]",
      "text/plain": [
       "<Figure size 1080x576 with 1 Axes>"
      ]
     },
     "metadata": {
      "needs_background": "light"
     },
     "output_type": "display_data"
    }
   ],
   "source": [
    "pred = regression.predict(X)\n",
    "\n",
    "fig, ax = plt.subplots(1,1, figsize = (15,8))\n",
    "\n",
    "ax.scatter(storks.Area, y)\n",
    "ax.plot(storks.Area, pred, 'r')\n",
    "ax.set_xlabel('Area (km2)')\n",
    "ax.set_ylabel('Number of stork pairs')"
   ]
  },
  {
   "cell_type": "markdown",
   "id": "9e63b1d9-2e57-4685-b5b7-007ac2822767",
   "metadata": {},
   "source": [
    "The regression coefficient of 0.336 indicates that only 33.6% of the variation in the number of storks is explained (using `Area` as the predictor). The model also predicts that the minimum area required to have at least one stork pair is ~2647.2 km^2. Having an area below the aforementioned value results in the model predicting a negative number for pairs of storks. Since the goal is to predict the number of storks for a given area, a negative number does not make sense. The RMSE value is ~6985 which is the square root of the average of the residual errors. Examining the above plot of the observed values and the regression model, it seems like the presence of a couple of data points that are quite extreme may explain the negative intercept value. Having more data points and/ or excluding these outliers may improve the model. \n",
    "\n",
    "### Section 3B: Regression model 2\n",
    "\n",
    "Instead of just one predictor, this regression model will use two:\n",
    "- Population density: defined as `Humans * 10^6/Area` with the units $no. of humans/km^2$, and\n",
    "- Suitable land area: defined as `SuitableAreaPercent /100` * `Area` with the units of km^2\n",
    "\n",
    "The target variable is still `Storks`(num of storks). Building the regression model:"
   ]
  },
  {
   "cell_type": "code",
   "execution_count": 13,
   "id": "1358d674-43fd-4716-9328-5342c3257b9d",
   "metadata": {
    "jupyter": {
     "source_hidden": true
    },
    "tags": []
   },
   "outputs": [
    {
     "name": "stdout",
     "output_type": "stream",
     "text": [
      "The R2 coefficient of determination is 0.393\n",
      "The intercept is 1881.4\n",
      "The regression coefficients are: [-12.13259789   0.03670658]\n",
      "The RMSE is:  6677.0286930693765\n"
     ]
    }
   ],
   "source": [
    "#model 2 - predictors are population density and suitable land area, target is num of storks (y same as before from 3A)\n",
    "\n",
    "#humans converted from millions to actual value for ease of interpreting the coefficient, and suitable area percent divided by 100 for percentage\n",
    "X2 = np.column_stack((storks.Humans*10**6/storks.Area, storks.SuitableAreaPercent * storks.Area/100)) \n",
    "\n",
    "regression2 = LinearRegression().fit(X2,y)\n",
    "y_pred2 = regression2.predict(X2)\n",
    "print('The R2 coefficient of determination is %4.3f' % regression2.score(X2, y))\n",
    "print('The intercept is %4.1f' % regression2.intercept_)\n",
    "print('The regression coefficients are:', regression2.coef_)\n",
    "print('The RMSE is: ', mean_squared_error(y, y_pred2, squared = False))"
   ]
  },
  {
   "cell_type": "markdown",
   "id": "dcd36783-fca9-43cc-9a85-e00f1dc92c27",
   "metadata": {},
   "source": [
    "The R2 coefficient is marginally better compared to model 1 but still only explains 39.3% of the total variation. The coefficient of the population density predictor indicates that for all other things being equal, an increase in population density by 1 human/km^2 will result in a decrease in the stork pair population by roughly 12. Similarly, the suitable area predictor coefficient of 0.037 implies an increase in stork pair population by 37 for every 1000km^2 increase in suitable area (assuming nothing else changes). The intercept of 1881.4 implies a stork population of at least 1881 if the population density for humans is 0 and there is no available suitable area for storks. The RMSE of ~6677 is lower than that of model 1 indicating that this model is a better fit (backing up what was observed using the R2 value).\n",
    "\n",
    "Plotting the residual errors against the predicted values (see below), it can be seen that quite a few points have really large errors in the thousands! A couple of predictions were also of negative stork pairs."
   ]
  },
  {
   "cell_type": "code",
   "execution_count": 14,
   "id": "6430a39b-fd2a-4b0a-98d6-77c56474a28f",
   "metadata": {
    "jupyter": {
     "source_hidden": true
    },
    "tags": []
   },
   "outputs": [
    {
     "data": {
      "text/plain": [
       "<matplotlib.legend.Legend at 0x7f9ffcf7faf0>"
      ]
     },
     "execution_count": 14,
     "metadata": {},
     "output_type": "execute_result"
    },
    {
     "data": {
      "image/png": "[encoded data removed]",
      "text/plain": [
       "<Figure size 1080x576 with 1 Axes>"
      ]
     },
     "metadata": {
      "needs_background": "light"
     },
     "output_type": "display_data"
    }
   ],
   "source": [
    "pred2 = regression2.predict(X2)\n",
    "\n",
    "fig, ax = plt.subplots(1,1, figsize = (15,8))\n",
    "res = pred2 - y\n",
    "ax.scatter(pred2, res) #residual vs actual\n",
    "ax.plot([0,25000],[0,0], color='red', linewidth=1, label = '0 error line')\n",
    "ax.set_ylabel('Residual error (predicted - actual)')\n",
    "ax.set_xlabel('Predicted values of stork pairs')\n",
    "ax.legend()"
   ]
  },
  {
   "cell_type": "markdown",
   "id": "7e0eb729-6679-4ee0-a7c2-e778c2fbc295",
   "metadata": {},
   "source": [
    "To determine the more influential predictor, the full range of the data is used to determine the max change in the target variable brought about by changing each predictor over their respective range. From the below, it can be seen that the suitable land area predictor (`SuitableAreaPercent /100 * Area`) is the more influential predictor as it causes a 61% change in the number of storks when changed over its full range whereas the population density predictor only causes a 11.6% change in the number of storks when changed over its full range. "
   ]
  },
  {
   "cell_type": "code",
   "execution_count": 15,
   "id": "8482db5d-c8fc-4802-a9c5-e37dcc40bccd",
   "metadata": {
    "jupyter": {
     "source_hidden": true
    }
   },
   "outputs": [
    {
     "name": "stdout",
     "output_type": "stream",
     "text": [
      "The change in no. of storks (as a percent) given by the population density coefficient (over its range) is -11.6 percent\n",
      "The change in no. of storks (as a percent) given by the suitable area coefficient (over its range) is 61.0 percent\n"
     ]
    }
   ],
   "source": [
    "#define the full range for the predictors and the target\n",
    "pop_dens_range = (storks.Humans*10**6/storks.Area).quantile(1.0) - (storks.Humans*10**6/storks.Area).quantile(0.0) #population density range\n",
    "suit_area_range = (storks.SuitableAreaPercent * storks.Area/100).quantile(1.0) - (storks.SuitableAreaPercent * storks.Area/100).quantile(0.0) #suitable area range\n",
    "storks_range = storks.Storks.quantile(1.0) - storks.Storks.quantile(0.0) #no. of storks range\n",
    "\n",
    "#calculate the change over the full range as a percentage\n",
    "print ('The change in no. of storks (as a percent) given by the population density coefficient (over its range) is %4.1f percent'\n",
    "       % (100 * (regression2.coef_[0] * pop_dens_range) / storks_range)) \n",
    "\n",
    "print ('The change in no. of storks (as a percent) given by the suitable area coefficient (over its range) is %4.1f percent'\n",
    "       % (100 * (regression2.coef_[1] * suit_area_range) / storks_range))"
   ]
  },
  {
   "cell_type": "markdown",
   "id": "e037d846-f2ee-40ff-aa58-4f5de07aef83",
   "metadata": {},
   "source": [
    "### Section 3C: Bootstrap\n",
    "\n",
    "In this section, the bootstrapping technique will be used to repeatedly sample the original dataframe, fit both models to each resample, and calculate the difference between the RMSE (root mean squared error) for both the models for each resample. The distribution of the RMSE difference is then plotted and a suitable confidence interval is determined to assess if one model is better than the other. \n",
    "\n",
    "The below performs the bootstrap, calculates the differences in the RMSE for 1000 resamples, and plots the differences as a distribution:"
   ]
  },
  {
   "cell_type": "code",
   "execution_count": 16,
   "id": "4dcfd679-bfec-4ba0-a132-e4cba9f6cdc2",
   "metadata": {
    "jupyter": {
     "source_hidden": true
    },
    "tags": []
   },
   "outputs": [
    {
     "data": {
      "text/html": [
       "<div>\n",
       "<style scoped>\n",
       "    .dataframe tbody tr th:only-of-type {\n",
       "        vertical-align: middle;\n",
       "    }\n",
       "\n",
       "    .dataframe tbody tr th {\n",
       "        vertical-align: top;\n",
       "    }\n",
       "\n",
       "    .dataframe thead th {\n",
       "        text-align: right;\n",
       "    }\n",
       "</style>\n",
       "<table border=\"1\" class=\"dataframe\">\n",
       "  <thead>\n",
       "    <tr style=\"text-align: right;\">\n",
       "      <th></th>\n",
       "      <th>RMSE_diff</th>\n",
       "    </tr>\n",
       "  </thead>\n",
       "  <tbody>\n",
       "    <tr>\n",
       "      <th>0</th>\n",
       "      <td>357.380322</td>\n",
       "    </tr>\n",
       "    <tr>\n",
       "      <th>1</th>\n",
       "      <td>294.628867</td>\n",
       "    </tr>\n",
       "    <tr>\n",
       "      <th>2</th>\n",
       "      <td>346.733189</td>\n",
       "    </tr>\n",
       "    <tr>\n",
       "      <th>3</th>\n",
       "      <td>158.369153</td>\n",
       "    </tr>\n",
       "    <tr>\n",
       "      <th>4</th>\n",
       "      <td>324.197066</td>\n",
       "    </tr>\n",
       "    <tr>\n",
       "      <th>...</th>\n",
       "      <td>...</td>\n",
       "    </tr>\n",
       "    <tr>\n",
       "      <th>995</th>\n",
       "      <td>304.181321</td>\n",
       "    </tr>\n",
       "    <tr>\n",
       "      <th>996</th>\n",
       "      <td>116.100455</td>\n",
       "    </tr>\n",
       "    <tr>\n",
       "      <th>997</th>\n",
       "      <td>351.164262</td>\n",
       "    </tr>\n",
       "    <tr>\n",
       "      <th>998</th>\n",
       "      <td>163.256056</td>\n",
       "    </tr>\n",
       "    <tr>\n",
       "      <th>999</th>\n",
       "      <td>282.916952</td>\n",
       "    </tr>\n",
       "  </tbody>\n",
       "</table>\n",
       "<p>1000 rows × 1 columns</p>\n",
       "</div>"
      ],
      "text/plain": [
       "      RMSE_diff\n",
       "0    357.380322\n",
       "1    294.628867\n",
       "2    346.733189\n",
       "3    158.369153\n",
       "4    324.197066\n",
       "..          ...\n",
       "995  304.181321\n",
       "996  116.100455\n",
       "997  351.164262\n",
       "998  163.256056\n",
       "999  282.916952\n",
       "\n",
       "[1000 rows x 1 columns]"
      ]
     },
     "metadata": {},
     "output_type": "display_data"
    },
    {
     "data": {
      "text/plain": [
       "array([[<AxesSubplot:title={'center':'RMSE_diff'}>]], dtype=object)"
      ]
     },
     "execution_count": 16,
     "metadata": {},
     "output_type": "execute_result"
    },
    {
     "data": {
      "image/png": "[encoded data removed]",
      "text/plain": [
       "<Figure size 864x576 with 1 Axes>"
      ]
     },
     "metadata": {
      "needs_background": "light"
     },
     "output_type": "display_data"
    }
   ],
   "source": [
    "def rmse(df):\n",
    "    X = np.column_stack([df.Area]) # model 1 X\n",
    "    y = np.array(df.Storks) #target - converted to np array\n",
    "    X2 = np.column_stack((df.Humans*10**6/df.Area, df.SuitableAreaPercent * df.Area/100)) #model 2 X\n",
    "    reg1 = LinearRegression().fit(X,y)\n",
    "    pred_1 = reg1.predict(X)\n",
    "    reg2 = LinearRegression().fit(X2,y)\n",
    "    pred_2 = reg2.predict(X2)\n",
    "    return mean_squared_error(y, pred_1, squared=False) - mean_squared_error(y, pred_2, squared=False) #RMSE model 1 - RMSE model 2\n",
    "\n",
    "df = bootstrapC(storks, ['RMSE_diff'], 1000, rmse) #call bootstrap with 1000 repeats\n",
    "\n",
    "display(df)\n",
    "\n",
    "df.hist(figsize = (12,8), bins = 30)"
   ]
  },
  {
   "cell_type": "markdown",
   "id": "d635bb14-c100-43df-b88f-ad7edc34fa69",
   "metadata": {},
   "source": [
    "The above distribution shows that the majority of the difference values are positive. Deriving the 95% confidence interval:"
   ]
  },
  {
   "cell_type": "code",
   "execution_count": 17,
   "id": "b76dbbc4-ce30-44b3-81dc-1bbb1bf41c81",
   "metadata": {
    "jupyter": {
     "source_hidden": true
    },
    "tags": []
   },
   "outputs": [
    {
     "name": "stdout",
     "output_type": "stream",
     "text": [
      "95% range is 73.495 to 914.451\n"
     ]
    }
   ],
   "source": [
    "print('95%% range is %4.3f to %4.3f' % \n",
    "      (df.RMSE_diff.quantile(0.025), df.RMSE_diff.quantile(0.975)))"
   ]
  },
  {
   "cell_type": "markdown",
   "id": "770c1e94-2ce2-4124-9f3a-b6e61fefd083",
   "metadata": {},
   "source": [
    "As it can be seen from the above, for a 95% confidence interval, all the values in the 95% CI range are positive. This indicates that the RMSE for model 1 is more likely (95% of the time at least) to be higher than that for model 2. Thus, model 2 (with the population density and the suitable area as predictors) is a better model to predict the number of storks."
   ]
  }
 ],
 "metadata": {
  "kernelspec": {
   "display_name": "Python 3 (ipykernel)",
   "language": "python",
   "name": "python3"
  },
  "language_info": {
   "codemirror_mode": {
    "name": "ipython",
    "version": 3
   },
   "file_extension": ".py",
   "mimetype": "text/x-python",
   "name": "python",
   "nbconvert_exporter": "python",
   "pygments_lexer": "ipython3",
   "version": "3.9.6"
  }
 },
 "nbformat": 4,
 "nbformat_minor": 5
}
